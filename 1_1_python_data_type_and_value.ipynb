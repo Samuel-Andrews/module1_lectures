{
  "nbformat": 4,
  "nbformat_minor": 0,
  "metadata": {
    "anaconda-cloud": {},
    "kernelspec": {
      "display_name": "Python 3",
      "language": "python",
      "name": "python3"
    },
    "language_info": {
      "codemirror_mode": {
        "name": "ipython",
        "version": 3
      },
      "file_extension": ".py",
      "mimetype": "text/x-python",
      "name": "python",
      "nbconvert_exporter": "python",
      "pygments_lexer": "ipython3",
      "version": "3.7.0"
    },
    "colab": {
      "name": "1_1_python_data_type_and_value.ipynb",
      "provenance": [],
      "include_colab_link": true
    }
  },
  "cells": [
    {
      "cell_type": "markdown",
      "metadata": {
        "id": "view-in-github",
        "colab_type": "text"
      },
      "source": [
        "<a href=\"https://colab.research.google.com/github/Samuel-Andrews/module1_lectures/blob/master/1_1_python_data_type_and_value.ipynb\" target=\"_parent\"><img src=\"https://colab.research.google.com/assets/colab-badge.svg\" alt=\"Open In Colab\"/></a>"
      ]
    },
    {
      "cell_type": "markdown",
      "metadata": {
        "id": "MGQeyqbJbxoo",
        "colab_type": "text"
      },
      "source": [
        "## Python data\n",
        "\n",
        "* All data have a *type* and *value*\n",
        "    * *type* is based off the underlying class\n",
        "    * *value* is returned by the Python interpreter\n",
        "* We can use the `type` function to discover data classes/types"
      ]
    },
    {
      "cell_type": "markdown",
      "metadata": {
        "id": "U_zsUezQbxop",
        "colab_type": "text"
      },
      "source": [
        "#### Value of `\"Hello World\"`"
      ]
    },
    {
      "cell_type": "code",
      "metadata": {
        "id": "MQBVn916bxoq",
        "colab_type": "code",
        "colab": {
          "base_uri": "https://localhost:8080/",
          "height": 35
        },
        "outputId": "2a68fc32-d127-4c2b-fbb9-f5eccf0430a9"
      },
      "source": [
        "\"Hello World\""
      ],
      "execution_count": 4,
      "outputs": [
        {
          "output_type": "execute_result",
          "data": {
            "application/vnd.google.colaboratory.intrinsic+json": {
              "type": "string"
            },
            "text/plain": [
              "'Hello World'"
            ]
          },
          "metadata": {
            "tags": []
          },
          "execution_count": 4
        }
      ]
    },
    {
      "cell_type": "markdown",
      "metadata": {
        "id": "lMiuiM0icbVP",
        "colab_type": "text"
      },
      "source": [
        ""
      ]
    },
    {
      "cell_type": "markdown",
      "metadata": {
        "id": "2D343q7Zbxou",
        "colab_type": "text"
      },
      "source": [
        "#### Type of `\"Hello World\"`"
      ]
    },
    {
      "cell_type": "code",
      "metadata": {
        "id": "FOUv2NEKbxou",
        "colab_type": "code",
        "colab": {
          "base_uri": "https://localhost:8080/",
          "height": 34
        },
        "outputId": "2f7c735c-b279-4278-e2c3-f4a43c47aba5"
      },
      "source": [
        "type(\"Hello World\")"
      ],
      "execution_count": 7,
      "outputs": [
        {
          "output_type": "execute_result",
          "data": {
            "text/plain": [
              "str"
            ]
          },
          "metadata": {
            "tags": []
          },
          "execution_count": 7
        }
      ]
    },
    {
      "cell_type": "code",
      "metadata": {
        "id": "G1w467GNbxox",
        "colab_type": "code",
        "colab": {
          "base_uri": "https://localhost:8080/",
          "height": 34
        },
        "outputId": "52e3e1dc-fc4c-4e65-d039-cca8b2b4d7fa"
      },
      "source": [
        "2.5"
      ],
      "execution_count": 3,
      "outputs": [
        {
          "output_type": "execute_result",
          "data": {
            "text/plain": [
              "2.5"
            ]
          },
          "metadata": {
            "tags": []
          },
          "execution_count": 3
        }
      ]
    },
    {
      "cell_type": "code",
      "metadata": {
        "id": "OJa5ZDEvbxoz",
        "colab_type": "code",
        "colab": {},
        "outputId": "73eb850c-61d3-4943-c23f-ebe78952fea3"
      },
      "source": [
        "type(2.5)"
      ],
      "execution_count": null,
      "outputs": [
        {
          "output_type": "execute_result",
          "data": {
            "text/plain": [
              "float"
            ]
          },
          "metadata": {
            "tags": []
          },
          "execution_count": 27
        }
      ]
    },
    {
      "cell_type": "code",
      "metadata": {
        "scrolled": true,
        "id": "8AknY7fabxo1",
        "colab_type": "code",
        "colab": {},
        "outputId": "7b385d58-1fd8-4e77-8917-9acb80d74d57"
      },
      "source": [
        "17"
      ],
      "execution_count": null,
      "outputs": [
        {
          "output_type": "execute_result",
          "data": {
            "text/plain": [
              "17"
            ]
          },
          "metadata": {
            "tags": []
          },
          "execution_count": 28
        }
      ]
    },
    {
      "cell_type": "code",
      "metadata": {
        "scrolled": false,
        "id": "JJTPvaMhbxo3",
        "colab_type": "code",
        "colab": {},
        "outputId": "f54d3211-df2d-411d-e3fb-b25c63ab1564"
      },
      "source": [
        "type(17)"
      ],
      "execution_count": null,
      "outputs": [
        {
          "output_type": "execute_result",
          "data": {
            "text/plain": [
              "int"
            ]
          },
          "metadata": {
            "tags": []
          },
          "execution_count": 29
        }
      ]
    },
    {
      "cell_type": "code",
      "metadata": {
        "scrolled": true,
        "id": "WRAnVzTDbxo6",
        "colab_type": "code",
        "colab": {},
        "outputId": "03bd7cc8-3177-44c1-f2ee-c20c2a14ad69"
      },
      "source": [
        "17.0"
      ],
      "execution_count": null,
      "outputs": [
        {
          "output_type": "execute_result",
          "data": {
            "text/plain": [
              "17.0"
            ]
          },
          "metadata": {
            "tags": []
          },
          "execution_count": 30
        }
      ]
    },
    {
      "cell_type": "code",
      "metadata": {
        "id": "Jt8IswiseG4w",
        "colab_type": "code",
        "colab": {
          "base_uri": "https://localhost:8080/",
          "height": 34
        },
        "outputId": "88a6f343-f057-4538-be4e-71e8c0c0f833"
      },
      "source": [
        "type(17.0)"
      ],
      "execution_count": 11,
      "outputs": [
        {
          "output_type": "execute_result",
          "data": {
            "text/plain": [
              "float"
            ]
          },
          "metadata": {
            "tags": []
          },
          "execution_count": 11
        }
      ]
    },
    {
      "cell_type": "markdown",
      "metadata": {
        "id": "DN5hUAmzbxo9",
        "colab_type": "text"
      },
      "source": [
        "<font color=\"red\"> <h2> Exercise </h2></font>\n",
        "\n",
        "Investivate the type and value of the following\n",
        "\n",
        "* 2 + 17\n",
        "* 2 + 17.0"
      ]
    },
    {
      "cell_type": "code",
      "metadata": {
        "scrolled": false,
        "id": "BNStwJumbxo-",
        "colab_type": "code",
        "colab": {
          "base_uri": "https://localhost:8080/",
          "height": 34
        },
        "outputId": "5c96da90-d5a9-4bd6-eb6b-59f990f1b542"
      },
      "source": [
        "type(2+17)"
      ],
      "execution_count": 12,
      "outputs": [
        {
          "output_type": "execute_result",
          "data": {
            "text/plain": [
              "int"
            ]
          },
          "metadata": {
            "tags": []
          },
          "execution_count": 12
        }
      ]
    },
    {
      "cell_type": "code",
      "metadata": {
        "id": "_SKOANrGd8b0",
        "colab_type": "code",
        "colab": {
          "base_uri": "https://localhost:8080/",
          "height": 34
        },
        "outputId": "1883799e-a618-4b5b-d578-707f06ac6e29"
      },
      "source": [
        "type(2+17.0)"
      ],
      "execution_count": 10,
      "outputs": [
        {
          "output_type": "execute_result",
          "data": {
            "text/plain": [
              "float"
            ]
          },
          "metadata": {
            "tags": []
          },
          "execution_count": 10
        }
      ]
    },
    {
      "cell_type": "markdown",
      "metadata": {
        "id": "M564sMQkbxpC",
        "colab_type": "text"
      },
      "source": [
        "## Other basic types\n",
        "\n",
        "* Boolean\n",
        "* None"
      ]
    },
    {
      "cell_type": "code",
      "metadata": {
        "id": "DtqcQ6abbxpC",
        "colab_type": "code",
        "colab": {},
        "outputId": "74186877-c6dc-43e3-dc67-cb25d37492c2"
      },
      "source": [
        "True"
      ],
      "execution_count": null,
      "outputs": [
        {
          "output_type": "execute_result",
          "data": {
            "text/plain": [
              "True"
            ]
          },
          "metadata": {
            "tags": []
          },
          "execution_count": 36
        }
      ]
    },
    {
      "cell_type": "code",
      "metadata": {
        "id": "QDAgk0zNbxpE",
        "colab_type": "code",
        "colab": {},
        "outputId": "4fc4c069-d5a1-42b2-9018-3112bdd56de0"
      },
      "source": [
        "type(True)"
      ],
      "execution_count": null,
      "outputs": [
        {
          "output_type": "execute_result",
          "data": {
            "text/plain": [
              "bool"
            ]
          },
          "metadata": {
            "tags": []
          },
          "execution_count": 37
        }
      ]
    },
    {
      "cell_type": "code",
      "metadata": {
        "id": "Zdi7xbpXbxpG",
        "colab_type": "code",
        "colab": {},
        "outputId": "3c590990-ac37-4793-90be-7362bd18d0ea"
      },
      "source": [
        "False"
      ],
      "execution_count": null,
      "outputs": [
        {
          "output_type": "execute_result",
          "data": {
            "text/plain": [
              "False"
            ]
          },
          "metadata": {
            "tags": []
          },
          "execution_count": 38
        }
      ]
    },
    {
      "cell_type": "code",
      "metadata": {
        "id": "UgAoZXa3bxpJ",
        "colab_type": "code",
        "colab": {},
        "outputId": "c98f4746-7540-429f-cc44-5a1bb7dfbdc6"
      },
      "source": [
        "type(False)"
      ],
      "execution_count": null,
      "outputs": [
        {
          "output_type": "execute_result",
          "data": {
            "text/plain": [
              "bool"
            ]
          },
          "metadata": {
            "tags": []
          },
          "execution_count": 39
        }
      ]
    },
    {
      "cell_type": "code",
      "metadata": {
        "id": "Tkqlr_f0bxpL",
        "colab_type": "code",
        "colab": {}
      },
      "source": [
        "None"
      ],
      "execution_count": null,
      "outputs": []
    },
    {
      "cell_type": "code",
      "metadata": {
        "id": "rlqjZo7pbxpN",
        "colab_type": "code",
        "colab": {},
        "outputId": "cbf30465-33b5-4767-dc1d-8c4240d8eb8b"
      },
      "source": [
        "type(None)"
      ],
      "execution_count": null,
      "outputs": [
        {
          "output_type": "execute_result",
          "data": {
            "text/plain": [
              "NoneType"
            ]
          },
          "metadata": {
            "tags": []
          },
          "execution_count": 41
        }
      ]
    },
    {
      "cell_type": "markdown",
      "metadata": {
        "id": "XqcX0kWIbxpP",
        "colab_type": "text"
      },
      "source": [
        "## Collection types\n",
        "\n",
        "* Python comes with nice collection types\n",
        "   "
      ]
    },
    {
      "cell_type": "code",
      "metadata": {
        "id": "JEjVTEhHbxpQ",
        "colab_type": "code",
        "colab": {},
        "outputId": "3be794b5-48aa-4162-fef6-bc041fb063ed"
      },
      "source": [
        "[1,2,3] # Mutatable sequence"
      ],
      "execution_count": null,
      "outputs": [
        {
          "output_type": "execute_result",
          "data": {
            "text/plain": [
              "[1, 2, 3]"
            ]
          },
          "metadata": {
            "tags": []
          },
          "execution_count": 42
        }
      ]
    },
    {
      "cell_type": "code",
      "metadata": {
        "id": "PNX99FW8bxpS",
        "colab_type": "code",
        "colab": {},
        "outputId": "135b5b6a-9ca7-429d-cace-dec5863cc1cb"
      },
      "source": [
        "type([1,2,3]) # Mutatable sequence"
      ],
      "execution_count": null,
      "outputs": [
        {
          "output_type": "execute_result",
          "data": {
            "text/plain": [
              "list"
            ]
          },
          "metadata": {
            "tags": []
          },
          "execution_count": 43
        }
      ]
    },
    {
      "cell_type": "code",
      "metadata": {
        "id": "e1eDZWHLbxpU",
        "colab_type": "code",
        "colab": {},
        "outputId": "a2fd5a77-4f92-40ff-aa22-608c801bd33a"
      },
      "source": [
        "(1,2,3) # Immutable sequence"
      ],
      "execution_count": null,
      "outputs": [
        {
          "output_type": "execute_result",
          "data": {
            "text/plain": [
              "(1, 2, 3)"
            ]
          },
          "metadata": {
            "tags": []
          },
          "execution_count": 44
        }
      ]
    },
    {
      "cell_type": "code",
      "metadata": {
        "id": "-FoHlQRBbxpW",
        "colab_type": "code",
        "colab": {},
        "outputId": "1c2948da-bb4f-48d5-94b5-6c7001944ef6"
      },
      "source": [
        "type((1,2,3)) # Immutable sequence"
      ],
      "execution_count": null,
      "outputs": [
        {
          "output_type": "execute_result",
          "data": {
            "text/plain": [
              "tuple"
            ]
          },
          "metadata": {
            "tags": []
          },
          "execution_count": 45
        }
      ]
    },
    {
      "cell_type": "code",
      "metadata": {
        "id": "MA2blPfXbxpZ",
        "colab_type": "code",
        "colab": {},
        "outputId": "7112aa19-96bd-44fa-d95e-5bc8f7b4367a"
      },
      "source": [
        "{\"one\":1, \"two\":2, \"three\":3} # Associative map"
      ],
      "execution_count": null,
      "outputs": [
        {
          "output_type": "execute_result",
          "data": {
            "text/plain": [
              "{'one': 1, 'two': 2, 'three': 3}"
            ]
          },
          "metadata": {
            "tags": []
          },
          "execution_count": 46
        }
      ]
    },
    {
      "cell_type": "code",
      "metadata": {
        "id": "6d8VOeAlbxpc",
        "colab_type": "code",
        "colab": {},
        "outputId": "c9bfd9b6-6bb7-4548-b87c-ec141e2d38f6"
      },
      "source": [
        "type({\"one\":1, \"two\":2, \"three\":3}) # Associative map"
      ],
      "execution_count": null,
      "outputs": [
        {
          "output_type": "execute_result",
          "data": {
            "text/plain": [
              "dict"
            ]
          },
          "metadata": {
            "tags": []
          },
          "execution_count": 47
        }
      ]
    },
    {
      "cell_type": "code",
      "metadata": {
        "id": "CTJKtIVNbxpe",
        "colab_type": "code",
        "colab": {},
        "outputId": "ffc2afa9-163f-40fd-e5e7-fd9dd6839995"
      },
      "source": [
        "{1,2,3} # Unordered collection with unique entries"
      ],
      "execution_count": null,
      "outputs": [
        {
          "output_type": "execute_result",
          "data": {
            "text/plain": [
              "{1, 2, 3}"
            ]
          },
          "metadata": {
            "tags": []
          },
          "execution_count": 48
        }
      ]
    },
    {
      "cell_type": "code",
      "metadata": {
        "id": "n53DjudXbxpg",
        "colab_type": "code",
        "colab": {},
        "outputId": "463797a9-81fe-4ffe-b909-17b0622e0356"
      },
      "source": [
        "type({1,2,3}) # Unordered collection with unique entries"
      ],
      "execution_count": null,
      "outputs": [
        {
          "output_type": "execute_result",
          "data": {
            "text/plain": [
              "set"
            ]
          },
          "metadata": {
            "tags": []
          },
          "execution_count": 49
        }
      ]
    }
  ]
}